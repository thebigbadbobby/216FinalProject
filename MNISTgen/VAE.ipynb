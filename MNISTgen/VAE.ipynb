{
 "cells": [
  {
   "cell_type": "code",
   "execution_count": 1,
   "metadata": {
    "id": "iu4ta5-8YDZ5"
   },
   "outputs": [],
   "source": [
    "import os\n",
    "import torch\n",
    "import torch.nn as nn\n",
    "import torch.nn.functional as F\n",
    "import torchvision\n",
    "from torchvision import transforms\n",
    "from torchvision.utils import save_image\n",
    "import matplotlib.pyplot as plt\n",
    "import torch.optim as optim"
   ]
  },
  {
   "cell_type": "code",
   "execution_count": 2,
   "metadata": {
    "id": "y00dW6miyjur"
   },
   "outputs": [],
   "source": [
    "# config device\n",
    "device = torch.device(\"cuda\" if torch.cuda.is_available() else \"cpu\")\n",
    "\n",
    "# Create a directory doesn't already exist\n",
    "sample_dir = 'vae_samples'\n",
    "if not os.path.exists(sample_dir):\n",
    "    os.makedirs(sample_dir)"
   ]
  },
  {
   "cell_type": "code",
   "execution_count": 3,
   "metadata": {
    "id": "zy6sn8ZdnAOZ"
   },
   "outputs": [],
   "source": [
    "# define hyper-parameters (5 points)\n",
    "image_size = 28*28\n",
    "h_dim = 512\n",
    "z_dim = 256\n",
    "num_epochs = 20\n",
    "batch_size = 64\n",
    "learning_rate = 0.001"
   ]
  },
  {
   "cell_type": "code",
   "execution_count": 4,
   "metadata": {
    "id": "9kRwajldzC3Z"
   },
   "outputs": [],
   "source": [
    "# download MNIST dataset\n",
    "dataset = torchvision.datasets.MNIST(root='./data/',\n",
    "                                     train=True,\n",
    "                                     transform=transforms.ToTensor(),\n",
    "                                     download=True)\n",
    "\n",
    "# Data loader\n",
    "data_loader = torch.utils.data.DataLoader(dataset, batch_size=batch_size, shuffle=True)"
   ]
  },
  {
   "cell_type": "code",
   "execution_count": 5,
   "metadata": {
    "id": "EABqofbEzgKF"
   },
   "outputs": [],
   "source": [
    "# define your VAE Model (10 points)\n",
    "class VAE(nn.Module):\n",
    "  def __init__(self, image_size =784, h_dim = 500, z_dim = 100):\n",
    "    super(VAE, self).__init__()\n",
    "    \n",
    "    # 1. Define the model achitecture\n",
    "    # fc1 : input layer -> hidden layer\n",
    "    self.fc1 = nn.Linear(image_size, h_dim) \n",
    "    \n",
    "    # fc2: encoder layer -> feature layer 1: return mu\n",
    "    self.fc2 = nn.Linear(h_dim, z_dim)  \n",
    "    \n",
    "    # fc3: encoder layer -> feature layer 2: return log_var\n",
    "    self.fc3 = nn.Linear(h_dim, z_dim) \n",
    "    \n",
    "    # fc4: decoder layer\n",
    "    self.fc4 = nn.Linear(z_dim, h_dim)\n",
    "    \n",
    "    # fc5: decoder layer -> output layer\n",
    "    self.fc5 = nn.Linear(h_dim, image_size)\n",
    "  \n",
    "  def encode(self, x):\n",
    "    # 2. define the encoding method to encode input features to hidden representations and get the encoded feature represenataion distribution variables\n",
    "    hidden = F.relu(self.fc1(x))\n",
    "    mu = self.fc2(hidden)\n",
    "    log_var = self.fc3(hidden)\n",
    "    return mu, log_var\n",
    "  \n",
    "  def reparameterize(self, mu, log_var):\n",
    "    # 3. reparameterize the distribution of encoded features representations (mu, and log_var) for decoding purpose\n",
    "    std = torch.exp(log_var*0.5)\n",
    "    eps = torch.randn_like(std)\n",
    "    return mu + std*eps\n",
    "  \n",
    "  def decode(self, z):\n",
    "    # 4. define the decoding method to decode input features to hidden representations that will be reconstructed\n",
    "    hidden = F.relu(self.fc4(z))\n",
    "    return torch.sigmoid(self.fc5(hidden))\n",
    "  \n",
    "  def forward(self, x):\n",
    "    # 5. define the forward function for training VAE\n",
    "    # Procedure: \n",
    "    #1. encode feature x\n",
    "    #2. get input feature distribution mu and log_var of encoded feature representations by using the reparameterize method\n",
    "    #3. reconstruct features based on the reparameterized features using decode method.\n",
    "\n",
    "    mu, log_var = self.encode(x)\n",
    "    z = self.reparameterize(mu, log_var)\n",
    "    x_reconst = self.decode(z)\n",
    "    return x_reconst, mu, log_var\n",
    "  \n",
    "model = VAE(h_dim=h_dim, z_dim=z_dim).to(device)\n",
    "optimizer = torch.optim.Adam(model.parameters(), lr=learning_rate)"
   ]
  },
  {
   "cell_type": "code",
   "execution_count": 6,
   "metadata": {
    "colab": {
     "base_uri": "https://localhost:8080/"
    },
    "id": "Bp1IhIUK3PoF",
    "outputId": "774c75d4-9ec9-47ea-d866-26fca5139f74"
   },
   "outputs": [
    {
     "name": "stdout",
     "output_type": "stream",
     "text": [
      "VAE(\n",
      "  (fc1): Linear(in_features=784, out_features=512, bias=True)\n",
      "  (fc2): Linear(in_features=512, out_features=256, bias=True)\n",
      "  (fc3): Linear(in_features=512, out_features=256, bias=True)\n",
      "  (fc4): Linear(in_features=256, out_features=512, bias=True)\n",
      "  (fc5): Linear(in_features=512, out_features=784, bias=True)\n",
      ")\n"
     ]
    }
   ],
   "source": [
    "# Print your model architecture and check whether your model architecture is correct (1 point)\n",
    "print(model)"
   ]
  },
  {
   "cell_type": "code",
   "execution_count": 10,
   "metadata": {
    "colab": {
     "base_uri": "https://localhost:8080/"
    },
    "id": "NS9aZaJl3SdF",
    "outputId": "069046c3-3799-4491-e0a4-ac5855332c65"
   },
   "outputs": [
    {
     "name": "stdout",
     "output_type": "stream",
     "text": [
      "0\n",
      "Epoch: 1,    Recons loss: 78.9431,   KLdiv: 25.7791,   Loss: 104.7222\n",
      "1\n",
      "Epoch: 2,    Recons loss: 78.8312,   KLdiv: 25.7714,   Loss: 104.6025\n",
      "2\n",
      "Epoch: 3,    Recons loss: 78.7109,   KLdiv: 25.7395,   Loss: 104.4504\n",
      "3\n",
      "Epoch: 4,    Recons loss: 78.5963,   KLdiv: 25.7496,   Loss: 104.3459\n",
      "4\n",
      "Epoch: 5,    Recons loss: 78.4977,   KLdiv: 25.7613,   Loss: 104.2590\n",
      "5\n",
      "Epoch: 6,    Recons loss: 78.4303,   KLdiv: 25.7902,   Loss: 104.2205\n",
      "6\n",
      "Epoch: 7,    Recons loss: 78.3004,   KLdiv: 25.7660,   Loss: 104.0664\n",
      "7\n",
      "Epoch: 8,    Recons loss: 78.2637,   KLdiv: 25.7819,   Loss: 104.0456\n",
      "8\n",
      "Epoch: 9,    Recons loss: 78.1915,   KLdiv: 25.7547,   Loss: 103.9462\n",
      "9\n",
      "Epoch: 10,    Recons loss: 78.0766,   KLdiv: 25.7498,   Loss: 103.8264\n",
      "10\n",
      "Epoch: 11,    Recons loss: 78.0409,   KLdiv: 25.7401,   Loss: 103.7809\n",
      "11\n",
      "Epoch: 12,    Recons loss: 78.0158,   KLdiv: 25.7305,   Loss: 103.7462\n",
      "12\n",
      "Epoch: 13,    Recons loss: 77.9093,   KLdiv: 25.7378,   Loss: 103.6471\n",
      "13\n",
      "Epoch: 14,    Recons loss: 77.8691,   KLdiv: 25.7506,   Loss: 103.6197\n",
      "14\n",
      "Epoch: 15,    Recons loss: 77.8123,   KLdiv: 25.7305,   Loss: 103.5428\n",
      "15\n",
      "Epoch: 16,    Recons loss: 77.7667,   KLdiv: 25.7206,   Loss: 103.4873\n",
      "16\n",
      "Epoch: 17,    Recons loss: 77.7076,   KLdiv: 25.7144,   Loss: 103.4221\n",
      "17\n",
      "Epoch: 18,    Recons loss: 77.6694,   KLdiv: 25.7019,   Loss: 103.3714\n",
      "18\n",
      "Epoch: 19,    Recons loss: 77.6235,   KLdiv: 25.6767,   Loss: 103.3002\n",
      "19\n",
      "Epoch: 20,    Recons loss: 77.5598,   KLdiv: 25.6953,   Loss: 103.2551\n"
     ]
    }
   ],
   "source": [
    "# Start VAE training and print out the training evaluation result (reconstruct loss and KL divergence) per epoch (2 points)\n",
    "n = len(data_loader.dataset)\n",
    "model.train()\n",
    "for epoch in range(num_epochs):\n",
    "  total_loss = 0\n",
    "  total_kl = 0\n",
    "  for i, (x, _) in enumerate(data_loader):\n",
    "    x = x.to(device).view(-1, image_size)\n",
    "    x_reconst, mu, log_var = model(x)\n",
    "\n",
    "    # 1. define the reconstruction loss\n",
    "    reconst_loss = F.binary_cross_entropy(x_reconst, x, reduction='sum')\n",
    "    total_loss += reconst_loss.item()\n",
    "    # 2. define the kl divergence: how similiar the prior distribution is comparing with the posterior dis\n",
    "    kl_div = -0.5 * torch.sum(1 + log_var - mu.pow(2) - log_var.exp())\n",
    "    total_kl += kl_div.item()\n",
    "    \n",
    "    loss = reconst_loss + kl_div\n",
    "    optimizer.zero_grad()\n",
    "    loss.backward()\n",
    "    optimizer.step()\n",
    "  print(epoch)\n",
    "  print('Epoch: %d,    Recons loss: %.4f,   KLdiv: %.4f,   Loss: %.4f' %(epoch+1, total_loss / n, total_kl / n, (total_loss + total_kl) / n))"
   ]
  },
  {
   "cell_type": "code",
   "execution_count": 11,
   "metadata": {
    "id": "3yXIjiOG4zHl"
   },
   "outputs": [],
   "source": [
    "# 1. Test the VAE model by saving the sampled image using the sample_image function in torchvision.util\n",
    "# 2. and the reconstructed image from your model to the pre-defined 'samples' directory (2 points)\n",
    "model.eval()\n",
    "with torch.no_grad():\n",
    "  # 1. Save the sampled images \n",
    "  z = torch.randn(batch_size, z_dim).to(device)\n",
    "  # 2. get the decoded feature on z using model.decode method.\n",
    "  # Remember, it's important for you to transform the decoded feature to the image dimenonailty torch.view()\n",
    "  out = model.decode(z).view(-1, 1, 28, 28)\n",
    "  save_image(out, os.path.join(sample_dir, 'sampled-{}.png'.format(epoch+1)))\n",
    "\n",
    "  # Save the reconstructed images\n",
    "  out, _, _ = model(x)\n",
    "  x_concat = torch.cat([x.view(-1, 1, 28, 28), out.view(-1, 1, 28, 28)], dim=3)\n",
    "  save_image(x_concat, os.path.join(sample_dir, 'reconst-{}.png'.format(epoch+1)))"
   ]
  },
  {
   "cell_type": "code",
   "execution_count": 12,
   "metadata": {
    "colab": {
     "base_uri": "https://localhost:8080/",
     "height": 193
    },
    "id": "gmIJ8-s-5ozN",
    "outputId": "6b000181-3e28-4c9c-86f5-db9d845655e9"
   },
   "outputs": [
    {
     "name": "stdout",
     "output_type": "stream",
     "text": [
      "Sampled images:\n"
     ]
    },
    {
     "data": {
      "image/png": "[encoded data removed]",
      "text/plain": [
       "<Figure size 432x288 with 1 Axes>"
      ]
     },
     "metadata": {
      "needs_background": "light"
     },
     "output_type": "display_data"
    },
    {
     "name": "stdout",
     "output_type": "stream",
     "text": [
      "Reconstructed images:\n"
     ]
    },
    {
     "data": {
      "image/png": "[encoded data removed]",
      "text/plain": [
       "<Figure size 432x288 with 1 Axes>"
      ]
     },
     "metadata": {
      "needs_background": "light"
     },
     "output_type": "display_data"
    }
   ],
   "source": [
    "# Visualize first 5 image from the saved sampled images and reconstructed images\n",
    "# and compare them to see whether they are similar (5 points)\n",
    "from matplotlib import image\n",
    "sampled = image.imread(os.path.join(sample_dir, 'sampled-{}.png'.format(epoch+1)))\n",
    "reconst = image.imread(os.path.join(sample_dir, 'reconst-{}.png'.format(epoch+1)))\n",
    "print('Sampled images:')\n",
    "plt.imshow(sampled[:28,:280])\n",
    "plt.show()\n",
    "print('Reconstructed images:')\n",
    "plt.imshow(reconst[:28,:280])\n",
    "plt.show()"
   ]
  }
 ],
 "metadata": {
  "accelerator": "GPU",
  "colab": {
   "collapsed_sections": [
    "hXT0uER4OGbK",
    "yqBFyjo4yWSS",
    "p4cJieMKDyjp"
   ],
   "machine_shape": "hm",
   "name": "CS_274C_Programming_Assignment_3.ipynb",
   "provenance": []
  },
  "interpreter": {
   "hash": "aee8b7b246df8f9039afb4144a1f6fd8d2ca17a180786b69acc140d282b71a49"
  },
  "kernelspec": {
   "display_name": "Python 3.9.1 64-bit",
   "language": "python",
   "name": "python3"
  },
  "language_info": {
   "codemirror_mode": {
    "name": "ipython",
    "version": 3
   },
   "file_extension": ".py",
   "mimetype": "text/x-python",
   "name": "python",
   "nbconvert_exporter": "python",
   "pygments_lexer": "ipython3",
   "version": "3.9.1"
  },
  "widgets": {
   "application/vnd.jupyter.widget-state+json": {
    "01fcefee071942b5baf986470db9b87f": {
     "model_module": "@jupyter-widgets/base",
     "model_module_version": "1.2.0",
     "model_name": "LayoutModel",
     "state": {
      "_model_module": "@jupyter-widgets/base",
      "_model_module_version": "1.2.0",
      "_model_name": "LayoutModel",
      "_view_count": null,
      "_view_module": "@jupyter-widgets/base",
      "_view_module_version": "1.2.0",
      "_view_name": "LayoutView",
      "align_content": null,
      "align_items": null,
      "align_self": null,
      "border": null,
      "bottom": null,
      "display": null,
      "flex": null,
      "flex_flow": null,
      "grid_area": null,
      "grid_auto_columns": null,
      "grid_auto_flow": null,
      "grid_auto_rows": null,
      "grid_column": null,
      "grid_gap": null,
      "grid_row": null,
      "grid_template_areas": null,
      "grid_template_columns": null,
      "grid_template_rows": null,
      "height": null,
      "justify_content": null,
      "justify_items": null,
      "left": null,
      "margin": null,
      "max_height": null,
      "max_width": null,
      "min_height": null,
      "min_width": null,
      "object_fit": null,
      "object_position": null,
      "order": null,
      "overflow": null,
      "overflow_x": null,
      "overflow_y": null,
      "padding": null,
      "right": null,
      "top": null,
      "visibility": null,
      "width": null
     }
    },
    "09972a1551754bb6b79d4e1fc3abacb9": {
     "model_module": "@jupyter-widgets/controls",
     "model_module_version": "1.5.0",
     "model_name": "HTMLModel",
     "state": {
      "_dom_classes": [],
      "_model_module": "@jupyter-widgets/controls",
      "_model_module_version": "1.5.0",
      "_model_name": "HTMLModel",
      "_view_count": null,
      "_view_module": "@jupyter-widgets/controls",
      "_view_module_version": "1.5.0",
      "_view_name": "HTMLView",
      "description": "",
      "description_tooltip": null,
      "layout": "IPY_MODEL_4c540818d7134da287ee4a7a10f8d81d",
      "placeholder": "​",
      "style": "IPY_MODEL_3589dac8bff24171aa8f8464e198c946",
      "value": ""
     }
    },
    "258f9b77c3fb47e4be2df271a2e6bb63": {
     "model_module": "@jupyter-widgets/controls",
     "model_module_version": "1.5.0",
     "model_name": "DescriptionStyleModel",
     "state": {
      "_model_module": "@jupyter-widgets/controls",
      "_model_module_version": "1.5.0",
      "_model_name": "DescriptionStyleModel",
      "_view_count": null,
      "_view_module": "@jupyter-widgets/base",
      "_view_module_version": "1.2.0",
      "_view_name": "StyleView",
      "description_width": ""
     }
    },
    "3589dac8bff24171aa8f8464e198c946": {
     "model_module": "@jupyter-widgets/controls",
     "model_module_version": "1.5.0",
     "model_name": "DescriptionStyleModel",
     "state": {
      "_model_module": "@jupyter-widgets/controls",
      "_model_module_version": "1.5.0",
      "_model_name": "DescriptionStyleModel",
      "_view_count": null,
      "_view_module": "@jupyter-widgets/base",
      "_view_module_version": "1.2.0",
      "_view_name": "StyleView",
      "description_width": ""
     }
    },
    "457a4d23886d4353aa0054c2eff67407": {
     "model_module": "@jupyter-widgets/base",
     "model_module_version": "1.2.0",
     "model_name": "LayoutModel",
     "state": {
      "_model_module": "@jupyter-widgets/base",
      "_model_module_version": "1.2.0",
      "_model_name": "LayoutModel",
      "_view_count": null,
      "_view_module": "@jupyter-widgets/base",
      "_view_module_version": "1.2.0",
      "_view_name": "LayoutView",
      "align_content": null,
      "align_items": null,
      "align_self": null,
      "border": null,
      "bottom": null,
      "display": null,
      "flex": null,
      "flex_flow": null,
      "grid_area": null,
      "grid_auto_columns": null,
      "grid_auto_flow": null,
      "grid_auto_rows": null,
      "grid_column": null,
      "grid_gap": null,
      "grid_row": null,
      "grid_template_areas": null,
      "grid_template_columns": null,
      "grid_template_rows": null,
      "height": null,
      "justify_content": null,
      "justify_items": null,
      "left": null,
      "margin": null,
      "max_height": null,
      "max_width": null,
      "min_height": null,
      "min_width": null,
      "object_fit": null,
      "object_position": null,
      "order": null,
      "overflow": null,
      "overflow_x": null,
      "overflow_y": null,
      "padding": null,
      "right": null,
      "top": null,
      "visibility": null,
      "width": null
     }
    },
    "4c540818d7134da287ee4a7a10f8d81d": {
     "model_module": "@jupyter-widgets/base",
     "model_module_version": "1.2.0",
     "model_name": "LayoutModel",
     "state": {
      "_model_module": "@jupyter-widgets/base",
      "_model_module_version": "1.2.0",
      "_model_name": "LayoutModel",
      "_view_count": null,
      "_view_module": "@jupyter-widgets/base",
      "_view_module_version": "1.2.0",
      "_view_name": "LayoutView",
      "align_content": null,
      "align_items": null,
      "align_self": null,
      "border": null,
      "bottom": null,
      "display": null,
      "flex": null,
      "flex_flow": null,
      "grid_area": null,
      "grid_auto_columns": null,
      "grid_auto_flow": null,
      "grid_auto_rows": null,
      "grid_column": null,
      "grid_gap": null,
      "grid_row": null,
      "grid_template_areas": null,
      "grid_template_columns": null,
      "grid_template_rows": null,
      "height": null,
      "justify_content": null,
      "justify_items": null,
      "left": null,
      "margin": null,
      "max_height": null,
      "max_width": null,
      "min_height": null,
      "min_width": null,
      "object_fit": null,
      "object_position": null,
      "order": null,
      "overflow": null,
      "overflow_x": null,
      "overflow_y": null,
      "padding": null,
      "right": null,
      "top": null,
      "visibility": null,
      "width": null
     }
    },
    "6fc62a0add2d498b9e9020964adda3de": {
     "model_module": "@jupyter-widgets/base",
     "model_module_version": "1.2.0",
     "model_name": "LayoutModel",
     "state": {
      "_model_module": "@jupyter-widgets/base",
      "_model_module_version": "1.2.0",
      "_model_name": "LayoutModel",
      "_view_count": null,
      "_view_module": "@jupyter-widgets/base",
      "_view_module_version": "1.2.0",
      "_view_name": "LayoutView",
      "align_content": null,
      "align_items": null,
      "align_self": null,
      "border": null,
      "bottom": null,
      "display": null,
      "flex": null,
      "flex_flow": null,
      "grid_area": null,
      "grid_auto_columns": null,
      "grid_auto_flow": null,
      "grid_auto_rows": null,
      "grid_column": null,
      "grid_gap": null,
      "grid_row": null,
      "grid_template_areas": null,
      "grid_template_columns": null,
      "grid_template_rows": null,
      "height": null,
      "justify_content": null,
      "justify_items": null,
      "left": null,
      "margin": null,
      "max_height": null,
      "max_width": null,
      "min_height": null,
      "min_width": null,
      "object_fit": null,
      "object_position": null,
      "order": null,
      "overflow": null,
      "overflow_x": null,
      "overflow_y": null,
      "padding": null,
      "right": null,
      "top": null,
      "visibility": null,
      "width": null
     }
    },
    "7df42854f65f4c488de6873badb0ac0c": {
     "model_module": "@jupyter-widgets/controls",
     "model_module_version": "1.5.0",
     "model_name": "FloatProgressModel",
     "state": {
      "_dom_classes": [],
      "_model_module": "@jupyter-widgets/controls",
      "_model_module_version": "1.5.0",
      "_model_name": "FloatProgressModel",
      "_view_count": null,
      "_view_module": "@jupyter-widgets/controls",
      "_view_module_version": "1.5.0",
      "_view_name": "ProgressView",
      "bar_style": "success",
      "description": "",
      "description_tooltip": null,
      "layout": "IPY_MODEL_01fcefee071942b5baf986470db9b87f",
      "max": 170498071,
      "min": 0,
      "orientation": "horizontal",
      "style": "IPY_MODEL_a021d9a2745744d28cc3fdca297fbb8d",
      "value": 170498071
     }
    },
    "8857431ca199417abfda409c3c8006a4": {
     "model_module": "@jupyter-widgets/controls",
     "model_module_version": "1.5.0",
     "model_name": "HTMLModel",
     "state": {
      "_dom_classes": [],
      "_model_module": "@jupyter-widgets/controls",
      "_model_module_version": "1.5.0",
      "_model_name": "HTMLModel",
      "_view_count": null,
      "_view_module": "@jupyter-widgets/controls",
      "_view_module_version": "1.5.0",
      "_view_name": "HTMLView",
      "description": "",
      "description_tooltip": null,
      "layout": "IPY_MODEL_457a4d23886d4353aa0054c2eff67407",
      "placeholder": "​",
      "style": "IPY_MODEL_258f9b77c3fb47e4be2df271a2e6bb63",
      "value": " 170499072/? [00:05&lt;00:00, 32614597.36it/s]"
     }
    },
    "a021d9a2745744d28cc3fdca297fbb8d": {
     "model_module": "@jupyter-widgets/controls",
     "model_module_version": "1.5.0",
     "model_name": "ProgressStyleModel",
     "state": {
      "_model_module": "@jupyter-widgets/controls",
      "_model_module_version": "1.5.0",
      "_model_name": "ProgressStyleModel",
      "_view_count": null,
      "_view_module": "@jupyter-widgets/base",
      "_view_module_version": "1.2.0",
      "_view_name": "StyleView",
      "bar_color": null,
      "description_width": ""
     }
    },
    "cfc9b16755314daaa2a341845d753f91": {
     "model_module": "@jupyter-widgets/controls",
     "model_module_version": "1.5.0",
     "model_name": "HBoxModel",
     "state": {
      "_dom_classes": [],
      "_model_module": "@jupyter-widgets/controls",
      "_model_module_version": "1.5.0",
      "_model_name": "HBoxModel",
      "_view_count": null,
      "_view_module": "@jupyter-widgets/controls",
      "_view_module_version": "1.5.0",
      "_view_name": "HBoxView",
      "box_style": "",
      "children": [
       "IPY_MODEL_09972a1551754bb6b79d4e1fc3abacb9",
       "IPY_MODEL_7df42854f65f4c488de6873badb0ac0c",
       "IPY_MODEL_8857431ca199417abfda409c3c8006a4"
      ],
      "layout": "IPY_MODEL_6fc62a0add2d498b9e9020964adda3de"
     }
    }
   }
  }
 },
 "nbformat": 4,
 "nbformat_minor": 4
}
