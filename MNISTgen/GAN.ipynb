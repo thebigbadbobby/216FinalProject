{
 "cells": [
  {
   "cell_type": "code",
   "execution_count": 20,
   "metadata": {
    "id": "0GEZ3IUS5ses"
   },
   "outputs": [],
   "source": [
    "import os\n",
    "import torch\n",
    "import torchvision\n",
    "import torch.nn as nn\n",
    "from torchvision import transforms\n",
    "from torchvision.utils import save_image\n",
    "import matplotlib.pylab as plt\n",
    "import torch.optim as optim\n",
    "from torch.autograd import Variable"
   ]
  },
  {
   "cell_type": "code",
   "execution_count": 21,
   "metadata": {
    "colab": {
     "base_uri": "https://localhost:8080/"
    },
    "id": "HSPcw7gg6_Xn",
    "outputId": "5fa412a2-b166-47a7-b117-3b20f4af54c0"
   },
   "outputs": [
    {
     "data": {
      "text/plain": [
       "device(type='cpu')"
      ]
     },
     "execution_count": 21,
     "metadata": {},
     "output_type": "execute_result"
    }
   ],
   "source": [
    "# config device\n",
    "device = torch.device(\"cuda\" if torch.cuda.is_available() else \"cpu\")\n",
    "device"
   ]
  },
  {
   "cell_type": "code",
   "execution_count": 30,
   "metadata": {
    "id": "69RJWWaVu_3F"
   },
   "outputs": [],
   "source": [
    "# Define your hyperparameters (5 points)\n",
    "latent_size = 128\n",
    "hidden_size = 256\n",
    "image_size = 784\n",
    "num_epochs = 50\n",
    "batch_size = 64\n",
    "lr = 0.0002"
   ]
  },
  {
   "cell_type": "code",
   "execution_count": 31,
   "metadata": {
    "id": "BILrKAFK7Elc"
   },
   "outputs": [],
   "source": [
    "sample_dir = \"gan_sample\"\n",
    "if not os.path.exists(sample_dir):\n",
    "  os.makedirs(sample_dir)\n",
    "\n",
    "# Image processing\n",
    "transform = transforms.Compose([\n",
    "                transforms.ToTensor()\n",
    "            ])\n",
    "\n",
    "# MNIST dataset\n",
    "mnist = torchvision.datasets.MNIST(root='./data/',\n",
    "                                   train=True,\n",
    "                                   transform=transform,\n",
    "                                   download=True)\n",
    "\n",
    "# Data loader\n",
    "data_loader = torch.utils.data.DataLoader(mnist, batch_size=batch_size, shuffle=True)"
   ]
  },
  {
   "cell_type": "code",
   "execution_count": 32,
   "metadata": {
    "id": "GFY0Qmuu7xWL"
   },
   "outputs": [],
   "source": [
    "#Utility Functions\n",
    "def denorm(x):\n",
    "  out = (x+1)/2\n",
    "  return out.clamp(0,1) # normalize the data into the range between 0 and 1.\n",
    "\n",
    "def reset_grad():\n",
    "  d_optimizer.zero_grad()\n",
    "  g_optimizer.zero_grad()"
   ]
  },
  {
   "cell_type": "code",
   "execution_count": 33,
   "metadata": {
    "id": "2l_FG3_L8HG8"
   },
   "outputs": [],
   "source": [
    "# define the discriminator\n",
    "D = nn.Sequential(\n",
    "    nn.Linear(image_size, hidden_size),\n",
    "    nn.LeakyReLU(0.2),\n",
    "    nn.Linear(hidden_size, hidden_size),\n",
    "    nn.LeakyReLU(0.2),\n",
    "    nn.Linear(hidden_size, 1),\n",
    "    nn.Sigmoid()\n",
    ")\n",
    "\n",
    "# define the generator\n",
    "G = nn.Sequential(\n",
    "    nn.Linear(latent_size, hidden_size),\n",
    "    nn.ReLU(),\n",
    "    nn.Linear(hidden_size, hidden_size),\n",
    "    nn.ReLU(),\n",
    "    nn.Linear(hidden_size, image_size),\n",
    "    nn.Tanh()\n",
    ")\n",
    "\n",
    "D = D.to(device)\n",
    "G = G.to(device)"
   ]
  },
  {
   "cell_type": "code",
   "execution_count": 34,
   "metadata": {
    "id": "BtyKdTr188tp"
   },
   "outputs": [],
   "source": [
    "criterion = nn.BCELoss()\n",
    "d_optimizer = torch.optim.Adam(D.parameters(), lr=lr)\n",
    "g_optimizer = torch.optim.Adam(G.parameters(), lr=lr)"
   ]
  },
  {
   "cell_type": "code",
   "execution_count": 35,
   "metadata": {
    "colab": {
     "base_uri": "https://localhost:8080/"
    },
    "id": "SOQD_VEC974N",
    "outputId": "ae91d0e0-a51e-4d11-dd57-760e2d553bea"
   },
   "outputs": [
    {
     "name": "stdout",
     "output_type": "stream",
     "text": [
      "Epoch: 10 \t D Loss: 0.0892 \t G Loss: 5.5290 \t D score: 0.9701 \t G score: 0.0048\n",
      "Epoch: 20 \t D Loss: 0.0647 \t G Loss: 6.1298 \t D score: 0.9780 \t G score: 0.0059\n",
      "Epoch: 30 \t D Loss: 0.0605 \t G Loss: 6.3276 \t D score: 0.9793 \t G score: 0.0069\n",
      "Epoch: 40 \t D Loss: 0.0689 \t G Loss: 6.1000 \t D score: 0.9752 \t G score: 0.0094\n",
      "Epoch: 50 \t D Loss: 0.0928 \t G Loss: 5.4651 \t D score: 0.9660 \t G score: 0.0153\n"
     ]
    }
   ],
   "source": [
    "# Start training GAN (10 points)\n",
    "total_step = len(data_loader.dataset)\n",
    "losses_d = []\n",
    "losses_g = []\n",
    "scores_d = []\n",
    "scores_g = []\n",
    "for epoch in range(num_epochs):\n",
    "  total_d_loss, total_g_loss = 0,0\n",
    "  d_score, g_score = 0, 0\n",
    "  for i, (images, _) in enumerate(data_loader):\n",
    "      images = images.view(-1, image_size).to(device)\n",
    "      images = Variable(images)\n",
    "      n = images.shape[0]\n",
    "      # Create the labels which are later used as input\n",
    "      real_labels = Variable(torch.ones((n,1)).to(device), requires_grad=False)\n",
    "      fake_labels = Variable(torch.zeros((n,1)).to(device), requires_grad=False)\n",
    "\n",
    "      ### 1. Discriminator Training starts (5 points)###\n",
    "\n",
    "      # Compute BCE_Loss using real images where BCE_Loss(x, y): - y * log(D(x)) - (1-y) * log(1 - D(x))\n",
    "      # Second term of the loss is always zero since real_labels == 1\n",
    "      outputs = D(images)\n",
    "      d_loss_real = criterion(outputs, real_labels)\n",
    "      # d_loss_real = -torch.mean(torch.log(outputs))\n",
    "      preds = (outputs >= 0.5) * 1\n",
    "      real_score = torch.sum(real_labels == preds).item()\n",
    "      \n",
    "      # Compute BCELoss using fake images\n",
    "      # First term of the loss is always zero since fake_labels == 0\n",
    "      z = Variable(torch.randn(n, latent_size).to(device))\n",
    "      fake_images = G(z)\n",
    "      outputs = D(fake_images)\n",
    "      d_loss_fake = criterion(outputs, fake_labels)\n",
    "      # d_loss_fake = -torch.mean(torch.log(1 - outputs))\n",
    "      preds = (outputs >= 0.5) * 1\n",
    "      fake_score = torch.sum(fake_labels == preds).item()\n",
    "      # Backprop and optimize\n",
    "      #Your Code#\n",
    "      d_loss = (d_loss_real + d_loss_fake) / 2\n",
    "      reset_grad()\n",
    "      d_loss.backward()\n",
    "      d_optimizer.step()\n",
    "      d_score += (real_score + fake_score) / 2\n",
    "      \n",
    "      ### 2. Generator Training starts (5 points)###\n",
    "\n",
    "      # Compute loss with fake images\n",
    "      z = Variable(torch.randn(n, latent_size).to(device))\n",
    "      fake_images = G(z)\n",
    "      outputs = D(fake_images)\n",
    "      # We train G to maximize log(D(G(z)) instead of minimizing log(1-D(G(z)))\n",
    "      g_loss = criterion(outputs, real_labels)\n",
    "      # g_loss = -torch.mean(torch.log(outputs))\n",
    "      # Backprop and optimize\n",
    "      #Your Code#\n",
    "      reset_grad()\n",
    "      g_loss.backward()\n",
    "      g_optimizer.step()\n",
    "      preds = (outputs >= 0.5) * 1\n",
    "      g_score += torch.sum(real_labels == preds).item()\n",
    "\n",
    "      total_g_loss += g_loss.item() * n\n",
    "      total_d_loss += d_loss.item() * n \n",
    "  total_d_loss /= total_step\n",
    "  total_g_loss /= total_step\n",
    "\n",
    "  # Print out your loss, score for both of your discriminator and generator per epoch\n",
    "  if (epoch+1) % 10 == 0:\n",
    "    print('Epoch: %d \\t D Loss: %.4f \\t G Loss: %.4f \\t D score: %.4f \\t G score: %.4f' % (epoch+1, total_d_loss, total_g_loss, d_score / total_step, g_score/total_step))\n",
    "  losses_g.append(total_g_loss)\n",
    "  losses_d.append(total_d_loss)\n",
    "  scores_d.append(d_score / total_step)\n",
    "  scores_g.append(g_score / total_step)\n",
    "  # Save real images\n",
    "  if (epoch+1) == 1:\n",
    "      images = images.view(-1, 1, 28, 28)\n",
    "      save_image(denorm(images), os.path.join(sample_dir, 'real_images.png'))\n",
    "  \n",
    "  # Save sampled images\n",
    "  fake_images = fake_images.view(-1, 1, 28, 28)\n",
    "  save_image(denorm(fake_images), os.path.join(sample_dir, 'fake_images-{}.png'.format(epoch+1)))"
   ]
  },
  {
   "cell_type": "code",
   "execution_count": 36,
   "metadata": {
    "colab": {
     "base_uri": "https://localhost:8080/",
     "height": 513
    },
    "id": "Dralm4ux7O_C",
    "outputId": "3e82e5c2-3346-4360-ed3d-f56e2d22a420"
   },
   "outputs": [
    {
     "data": {
      "image/png": "[encoded data removed]",
      "text/plain": [
       "<Figure size 432x288 with 1 Axes>"
      ]
     },
     "metadata": {
      "needs_background": "light"
     },
     "output_type": "display_data"
    },
    {
     "data": {
      "image/png": "[encoded data removed]",
      "text/plain": [
       "<Figure size 432x288 with 1 Axes>"
      ]
     },
     "metadata": {
      "needs_background": "light"
     },
     "output_type": "display_data"
    }
   ],
   "source": [
    "ep = range(1, num_epochs+1)\n",
    "plt.plot(ep, losses_d, label='Discriminator Loss')\n",
    "plt.plot(ep, losses_g, label='Generator Loss')\n",
    "plt.legend()\n",
    "plt.show()\n",
    "plt.plot(ep, scores_d, label='Discriminator Score')\n",
    "plt.plot(ep, scores_g, label='Generator Score')\n",
    "plt.legend()\n",
    "plt.show()"
   ]
  },
  {
   "cell_type": "code",
   "execution_count": 37,
   "metadata": {
    "colab": {
     "base_uri": "https://localhost:8080/",
     "height": 286
    },
    "id": "sXAA4kiOAohy",
    "outputId": "607160e3-4c00-4bb3-9f15-28d77d709743"
   },
   "outputs": [
    {
     "name": "stdout",
     "output_type": "stream",
     "text": [
      "Real images:\n"
     ]
    },
    {
     "data": {
      "image/png": "[encoded data removed]",
      "text/plain": [
       "<Figure size 432x288 with 1 Axes>"
      ]
     },
     "metadata": {
      "needs_background": "light"
     },
     "output_type": "display_data"
    },
    {
     "name": "stdout",
     "output_type": "stream",
     "text": [
      "Fake images:\n"
     ]
    },
    {
     "data": {
      "image/png": "[encoded data removed]",
      "text/plain": [
       "<Figure size 432x288 with 1 Axes>"
      ]
     },
     "metadata": {
      "needs_background": "light"
     },
     "output_type": "display_data"
    }
   ],
   "source": [
    "# Visualize first 5 image from the real images and fake images\n",
    "# and compare them to see whether they are similar (5 points)\n",
    "\n",
    "from matplotlib import image\n",
    "\n",
    "sample_dir = \"gan_sample\"\n",
    "real = image.imread(os.path.join(sample_dir, 'real_images.png'))\n",
    "fake = image.imread(os.path.join(sample_dir, 'fake_images-{}.png'.format(epoch+1)))\n",
    "print('Real images:')\n",
    "plt.imshow(real[:60,:280])\n",
    "plt.show()\n",
    "print('Fake images:')\n",
    "plt.imshow(fake[:60,:280])\n",
    "plt.show()"
   ]
  }
 ],
 "metadata": {
  "accelerator": "GPU",
  "colab": {
   "collapsed_sections": [
    "hXT0uER4OGbK",
    "yqBFyjo4yWSS",
    "p4cJieMKDyjp"
   ],
   "machine_shape": "hm",
   "name": "CS_274C_Programming_Assignment_3.ipynb",
   "provenance": []
  },
  "interpreter": {
   "hash": "aee8b7b246df8f9039afb4144a1f6fd8d2ca17a180786b69acc140d282b71a49"
  },
  "kernelspec": {
   "display_name": "Python 3.9.1 64-bit",
   "language": "python",
   "name": "python3"
  },
  "language_info": {
   "codemirror_mode": {
    "name": "ipython",
    "version": 3
   },
   "file_extension": ".py",
   "mimetype": "text/x-python",
   "name": "python",
   "nbconvert_exporter": "python",
   "pygments_lexer": "ipython3",
   "version": "3.9.1"
  },
  "widgets": {
   "application/vnd.jupyter.widget-state+json": {
    "01fcefee071942b5baf986470db9b87f": {
     "model_module": "@jupyter-widgets/base",
     "model_module_version": "1.2.0",
     "model_name": "LayoutModel",
     "state": {
      "_model_module": "@jupyter-widgets/base",
      "_model_module_version": "1.2.0",
      "_model_name": "LayoutModel",
      "_view_count": null,
      "_view_module": "@jupyter-widgets/base",
      "_view_module_version": "1.2.0",
      "_view_name": "LayoutView",
      "align_content": null,
      "align_items": null,
      "align_self": null,
      "border": null,
      "bottom": null,
      "display": null,
      "flex": null,
      "flex_flow": null,
      "grid_area": null,
      "grid_auto_columns": null,
      "grid_auto_flow": null,
      "grid_auto_rows": null,
      "grid_column": null,
      "grid_gap": null,
      "grid_row": null,
      "grid_template_areas": null,
      "grid_template_columns": null,
      "grid_template_rows": null,
      "height": null,
      "justify_content": null,
      "justify_items": null,
      "left": null,
      "margin": null,
      "max_height": null,
      "max_width": null,
      "min_height": null,
      "min_width": null,
      "object_fit": null,
      "object_position": null,
      "order": null,
      "overflow": null,
      "overflow_x": null,
      "overflow_y": null,
      "padding": null,
      "right": null,
      "top": null,
      "visibility": null,
      "width": null
     }
    },
    "09972a1551754bb6b79d4e1fc3abacb9": {
     "model_module": "@jupyter-widgets/controls",
     "model_module_version": "1.5.0",
     "model_name": "HTMLModel",
     "state": {
      "_dom_classes": [],
      "_model_module": "@jupyter-widgets/controls",
      "_model_module_version": "1.5.0",
      "_model_name": "HTMLModel",
      "_view_count": null,
      "_view_module": "@jupyter-widgets/controls",
      "_view_module_version": "1.5.0",
      "_view_name": "HTMLView",
      "description": "",
      "description_tooltip": null,
      "layout": "IPY_MODEL_4c540818d7134da287ee4a7a10f8d81d",
      "placeholder": "​",
      "style": "IPY_MODEL_3589dac8bff24171aa8f8464e198c946",
      "value": ""
     }
    },
    "258f9b77c3fb47e4be2df271a2e6bb63": {
     "model_module": "@jupyter-widgets/controls",
     "model_module_version": "1.5.0",
     "model_name": "DescriptionStyleModel",
     "state": {
      "_model_module": "@jupyter-widgets/controls",
      "_model_module_version": "1.5.0",
      "_model_name": "DescriptionStyleModel",
      "_view_count": null,
      "_view_module": "@jupyter-widgets/base",
      "_view_module_version": "1.2.0",
      "_view_name": "StyleView",
      "description_width": ""
     }
    },
    "3589dac8bff24171aa8f8464e198c946": {
     "model_module": "@jupyter-widgets/controls",
     "model_module_version": "1.5.0",
     "model_name": "DescriptionStyleModel",
     "state": {
      "_model_module": "@jupyter-widgets/controls",
      "_model_module_version": "1.5.0",
      "_model_name": "DescriptionStyleModel",
      "_view_count": null,
      "_view_module": "@jupyter-widgets/base",
      "_view_module_version": "1.2.0",
      "_view_name": "StyleView",
      "description_width": ""
     }
    },
    "457a4d23886d4353aa0054c2eff67407": {
     "model_module": "@jupyter-widgets/base",
     "model_module_version": "1.2.0",
     "model_name": "LayoutModel",
     "state": {
      "_model_module": "@jupyter-widgets/base",
      "_model_module_version": "1.2.0",
      "_model_name": "LayoutModel",
      "_view_count": null,
      "_view_module": "@jupyter-widgets/base",
      "_view_module_version": "1.2.0",
      "_view_name": "LayoutView",
      "align_content": null,
      "align_items": null,
      "align_self": null,
      "border": null,
      "bottom": null,
      "display": null,
      "flex": null,
      "flex_flow": null,
      "grid_area": null,
      "grid_auto_columns": null,
      "grid_auto_flow": null,
      "grid_auto_rows": null,
      "grid_column": null,
      "grid_gap": null,
      "grid_row": null,
      "grid_template_areas": null,
      "grid_template_columns": null,
      "grid_template_rows": null,
      "height": null,
      "justify_content": null,
      "justify_items": null,
      "left": null,
      "margin": null,
      "max_height": null,
      "max_width": null,
      "min_height": null,
      "min_width": null,
      "object_fit": null,
      "object_position": null,
      "order": null,
      "overflow": null,
      "overflow_x": null,
      "overflow_y": null,
      "padding": null,
      "right": null,
      "top": null,
      "visibility": null,
      "width": null
     }
    },
    "4c540818d7134da287ee4a7a10f8d81d": {
     "model_module": "@jupyter-widgets/base",
     "model_module_version": "1.2.0",
     "model_name": "LayoutModel",
     "state": {
      "_model_module": "@jupyter-widgets/base",
      "_model_module_version": "1.2.0",
      "_model_name": "LayoutModel",
      "_view_count": null,
      "_view_module": "@jupyter-widgets/base",
      "_view_module_version": "1.2.0",
      "_view_name": "LayoutView",
      "align_content": null,
      "align_items": null,
      "align_self": null,
      "border": null,
      "bottom": null,
      "display": null,
      "flex": null,
      "flex_flow": null,
      "grid_area": null,
      "grid_auto_columns": null,
      "grid_auto_flow": null,
      "grid_auto_rows": null,
      "grid_column": null,
      "grid_gap": null,
      "grid_row": null,
      "grid_template_areas": null,
      "grid_template_columns": null,
      "grid_template_rows": null,
      "height": null,
      "justify_content": null,
      "justify_items": null,
      "left": null,
      "margin": null,
      "max_height": null,
      "max_width": null,
      "min_height": null,
      "min_width": null,
      "object_fit": null,
      "object_position": null,
      "order": null,
      "overflow": null,
      "overflow_x": null,
      "overflow_y": null,
      "padding": null,
      "right": null,
      "top": null,
      "visibility": null,
      "width": null
     }
    },
    "6fc62a0add2d498b9e9020964adda3de": {
     "model_module": "@jupyter-widgets/base",
     "model_module_version": "1.2.0",
     "model_name": "LayoutModel",
     "state": {
      "_model_module": "@jupyter-widgets/base",
      "_model_module_version": "1.2.0",
      "_model_name": "LayoutModel",
      "_view_count": null,
      "_view_module": "@jupyter-widgets/base",
      "_view_module_version": "1.2.0",
      "_view_name": "LayoutView",
      "align_content": null,
      "align_items": null,
      "align_self": null,
      "border": null,
      "bottom": null,
      "display": null,
      "flex": null,
      "flex_flow": null,
      "grid_area": null,
      "grid_auto_columns": null,
      "grid_auto_flow": null,
      "grid_auto_rows": null,
      "grid_column": null,
      "grid_gap": null,
      "grid_row": null,
      "grid_template_areas": null,
      "grid_template_columns": null,
      "grid_template_rows": null,
      "height": null,
      "justify_content": null,
      "justify_items": null,
      "left": null,
      "margin": null,
      "max_height": null,
      "max_width": null,
      "min_height": null,
      "min_width": null,
      "object_fit": null,
      "object_position": null,
      "order": null,
      "overflow": null,
      "overflow_x": null,
      "overflow_y": null,
      "padding": null,
      "right": null,
      "top": null,
      "visibility": null,
      "width": null
     }
    },
    "7df42854f65f4c488de6873badb0ac0c": {
     "model_module": "@jupyter-widgets/controls",
     "model_module_version": "1.5.0",
     "model_name": "FloatProgressModel",
     "state": {
      "_dom_classes": [],
      "_model_module": "@jupyter-widgets/controls",
      "_model_module_version": "1.5.0",
      "_model_name": "FloatProgressModel",
      "_view_count": null,
      "_view_module": "@jupyter-widgets/controls",
      "_view_module_version": "1.5.0",
      "_view_name": "ProgressView",
      "bar_style": "success",
      "description": "",
      "description_tooltip": null,
      "layout": "IPY_MODEL_01fcefee071942b5baf986470db9b87f",
      "max": 170498071,
      "min": 0,
      "orientation": "horizontal",
      "style": "IPY_MODEL_a021d9a2745744d28cc3fdca297fbb8d",
      "value": 170498071
     }
    },
    "8857431ca199417abfda409c3c8006a4": {
     "model_module": "@jupyter-widgets/controls",
     "model_module_version": "1.5.0",
     "model_name": "HTMLModel",
     "state": {
      "_dom_classes": [],
      "_model_module": "@jupyter-widgets/controls",
      "_model_module_version": "1.5.0",
      "_model_name": "HTMLModel",
      "_view_count": null,
      "_view_module": "@jupyter-widgets/controls",
      "_view_module_version": "1.5.0",
      "_view_name": "HTMLView",
      "description": "",
      "description_tooltip": null,
      "layout": "IPY_MODEL_457a4d23886d4353aa0054c2eff67407",
      "placeholder": "​",
      "style": "IPY_MODEL_258f9b77c3fb47e4be2df271a2e6bb63",
      "value": " 170499072/? [00:05&lt;00:00, 32614597.36it/s]"
     }
    },
    "a021d9a2745744d28cc3fdca297fbb8d": {
     "model_module": "@jupyter-widgets/controls",
     "model_module_version": "1.5.0",
     "model_name": "ProgressStyleModel",
     "state": {
      "_model_module": "@jupyter-widgets/controls",
      "_model_module_version": "1.5.0",
      "_model_name": "ProgressStyleModel",
      "_view_count": null,
      "_view_module": "@jupyter-widgets/base",
      "_view_module_version": "1.2.0",
      "_view_name": "StyleView",
      "bar_color": null,
      "description_width": ""
     }
    },
    "cfc9b16755314daaa2a341845d753f91": {
     "model_module": "@jupyter-widgets/controls",
     "model_module_version": "1.5.0",
     "model_name": "HBoxModel",
     "state": {
      "_dom_classes": [],
      "_model_module": "@jupyter-widgets/controls",
      "_model_module_version": "1.5.0",
      "_model_name": "HBoxModel",
      "_view_count": null,
      "_view_module": "@jupyter-widgets/controls",
      "_view_module_version": "1.5.0",
      "_view_name": "HBoxView",
      "box_style": "",
      "children": [
       "IPY_MODEL_09972a1551754bb6b79d4e1fc3abacb9",
       "IPY_MODEL_7df42854f65f4c488de6873badb0ac0c",
       "IPY_MODEL_8857431ca199417abfda409c3c8006a4"
      ],
      "layout": "IPY_MODEL_6fc62a0add2d498b9e9020964adda3de"
     }
    }
   }
  }
 },
 "nbformat": 4,
 "nbformat_minor": 4
}
